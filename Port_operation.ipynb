{
  "cells": [
    {
      "cell_type": "markdown",
      "metadata": {
        "id": "oGbsdnBXmVIM"
      },
      "source": [
        "# Boat Type Classification using CNN and Transfer Learning\n",
        "\n",
        "This project classifies boat types using deep learning. We compare a custom CNN against a MobileNetV2 transfer learning model. The goal is to improve generalization and handle class imbalance using augmentation and oversampling.\n",
        "\n",
        "Key Focus:\n",
        "- Preprocessing (balancing, augmentation)\n",
        "- Model 1: Custom CNN\n",
        "- Model 2: MobileNetV2 (with regularization and learning rate scheduler)\n",
        "- Evaluation: Accuracy, F1-score, Confusion Matrix\n"
      ]
    },
    {
      "cell_type": "code",
      "execution_count": 1,
      "metadata": {
        "id": "jmkl-uco2w2B",
        "colab": {
          "base_uri": "https://localhost:8080/"
        },
        "outputId": "41ea8688-27f7-4ae3-94bc-b70f0106d713"
      },
      "outputs": [
        {
          "output_type": "stream",
          "name": "stdout",
          "text": [
            "Downloading data from https://storage.googleapis.com/tensorflow/keras-applications/mobilenet_v2/mobilenet_v2_weights_tf_dim_ordering_tf_kernels_1.0_224.h5\n",
            "\u001b[1m14536120/14536120\u001b[0m \u001b[32m━━━━━━━━━━━━━━━━━━━━\u001b[0m\u001b[37m\u001b[0m \u001b[1m0s\u001b[0m 0us/step\n"
          ]
        }
      ],
      "source": [
        "# IMPORTS\n",
        "\n",
        "import os\n",
        "import pathlib\n",
        "\n",
        "import matplotlib.pyplot as plt\n",
        "\n",
        "from sklearn.model_selection import train_test_split\n",
        "\n",
        "from tensorflow.keras import layers, models, utils, Sequential, losses, preprocessing\n",
        "from tensorflow.keras.callbacks import EarlyStopping, ReduceLROnPlateau, ModelCheckpoint\n",
        "from tensorflow.keras.applications import MobileNetV2\n",
        "from tensorflow.keras.layers import Input, GlobalAveragePooling2D, Dropout, Dense, BatchNormalization\n",
        "from tensorflow.keras.models import Model\n",
        "from tensorflow.keras.optimizers import Adam\n",
        "from tensorflow.keras.regularizers import l2\n",
        "from sklearn.metrics import accuracy_score, f1_score\n",
        "\n",
        "model_mobile = MobileNetV2()"
      ]
    },
    {
      "cell_type": "code",
      "execution_count": 2,
      "metadata": {
        "colab": {
          "base_uri": "https://localhost:8080/"
        },
        "id": "f7RsG2UQ_2Kw",
        "outputId": "f04a241c-cb19-4c6a-d407-670e9d21c9c7"
      },
      "outputs": [
        {
          "output_type": "stream",
          "name": "stdout",
          "text": [
            "Drive already mounted at /content/drive; to attempt to forcibly remount, call drive.mount(\"/content/drive\", force_remount=True).\n"
          ]
        }
      ],
      "source": [
        "from google.colab import drive\n",
        "drive.mount('/content/drive')\n",
        "\n",
        "data_dir = pathlib.Path('/content/drive/MyDrive/Automating Port Operations_Dataset')"
      ]
    },
    {
      "cell_type": "code",
      "execution_count": 3,
      "metadata": {
        "colab": {
          "base_uri": "https://localhost:8080/"
        },
        "id": "yL5SHy8NH35r",
        "outputId": "16781b71-4538-4a27-e510-cac296ee6f13"
      },
      "outputs": [
        {
          "output_type": "execute_result",
          "data": {
            "text/plain": [
              "PosixPath('/content/drive/MyDrive/Automating Port Operations_Dataset')"
            ]
          },
          "metadata": {},
          "execution_count": 3
        }
      ],
      "source": [
        "data_dir"
      ]
    },
    {
      "cell_type": "code",
      "execution_count": 4,
      "metadata": {
        "colab": {
          "base_uri": "https://localhost:8080/"
        },
        "collapsed": true,
        "id": "Itb_9BruAAog",
        "outputId": "f18535d9-97d6-408d-9594-b964b2d4f9bd"
      },
      "outputs": [
        {
          "output_type": "stream",
          "name": "stdout",
          "text": [
            "Found 1168 images.\n"
          ]
        }
      ],
      "source": [
        "boat_imgs = list(data_dir.glob('**/*.jpg')) + list(data_dir.glob('**/*.jpeg'))\n",
        "\n",
        "print(f\"Found {len(boat_imgs)} images.\")"
      ]
    },
    {
      "cell_type": "code",
      "execution_count": 5,
      "metadata": {
        "colab": {
          "base_uri": "https://localhost:8080/",
          "height": 398
        },
        "id": "-kJRF-b5IVoV",
        "outputId": "0814af79-e792-41d7-c979-4c2bffb6c77a"
      },
      "outputs": [
        {
          "output_type": "execute_result",
          "data": {
            "text/plain": [
              "label\n",
              "sailboat           389\n",
              "kayak              203\n",
              "gondola            193\n",
              "cruise_ship        191\n",
              "ferry_boat          63\n",
              "buoy                59\n",
              "paper_boat          31\n",
              "freight_boat        23\n",
              "inflatable_boat     16\n",
              "Name: count, dtype: int64"
            ],
            "text/html": [
              "<div>\n",
              "<style scoped>\n",
              "    .dataframe tbody tr th:only-of-type {\n",
              "        vertical-align: middle;\n",
              "    }\n",
              "\n",
              "    .dataframe tbody tr th {\n",
              "        vertical-align: top;\n",
              "    }\n",
              "\n",
              "    .dataframe thead th {\n",
              "        text-align: right;\n",
              "    }\n",
              "</style>\n",
              "<table border=\"1\" class=\"dataframe\">\n",
              "  <thead>\n",
              "    <tr style=\"text-align: right;\">\n",
              "      <th></th>\n",
              "      <th>count</th>\n",
              "    </tr>\n",
              "    <tr>\n",
              "      <th>label</th>\n",
              "      <th></th>\n",
              "    </tr>\n",
              "  </thead>\n",
              "  <tbody>\n",
              "    <tr>\n",
              "      <th>sailboat</th>\n",
              "      <td>389</td>\n",
              "    </tr>\n",
              "    <tr>\n",
              "      <th>kayak</th>\n",
              "      <td>203</td>\n",
              "    </tr>\n",
              "    <tr>\n",
              "      <th>gondola</th>\n",
              "      <td>193</td>\n",
              "    </tr>\n",
              "    <tr>\n",
              "      <th>cruise_ship</th>\n",
              "      <td>191</td>\n",
              "    </tr>\n",
              "    <tr>\n",
              "      <th>ferry_boat</th>\n",
              "      <td>63</td>\n",
              "    </tr>\n",
              "    <tr>\n",
              "      <th>buoy</th>\n",
              "      <td>59</td>\n",
              "    </tr>\n",
              "    <tr>\n",
              "      <th>paper_boat</th>\n",
              "      <td>31</td>\n",
              "    </tr>\n",
              "    <tr>\n",
              "      <th>freight_boat</th>\n",
              "      <td>23</td>\n",
              "    </tr>\n",
              "    <tr>\n",
              "      <th>inflatable_boat</th>\n",
              "      <td>16</td>\n",
              "    </tr>\n",
              "  </tbody>\n",
              "</table>\n",
              "</div><br><label><b>dtype:</b> int64</label>"
            ]
          },
          "metadata": {},
          "execution_count": 5
        }
      ],
      "source": [
        "import pandas as pd\n",
        "\n",
        "# Assuming folder structure like: boat_type_classification_dataset/sailboat/image1.jpeg\n",
        "df = pd.DataFrame({\n",
        "    'file_path': [str(p) for p in boat_imgs],\n",
        "    'label': [p.parent.name for p in boat_imgs]  # label is parent folder name\n",
        "})\n",
        "\n",
        "df['label'].value_counts()"
      ]
    },
    {
      "cell_type": "code",
      "execution_count": 6,
      "metadata": {
        "colab": {
          "base_uri": "https://localhost:8080/"
        },
        "id": "Q0bUjH05YRDK",
        "outputId": "3fe09308-617e-4c73-f539-7fe1542287bc"
      },
      "outputs": [
        {
          "output_type": "stream",
          "name": "stdout",
          "text": [
            "Total number of unique labels: 9\n"
          ]
        }
      ],
      "source": [
        "Unique_labels = df['label'].unique()\n",
        "print(f\"Total number of unique labels: {len(Unique_labels)}\")"
      ]
    },
    {
      "cell_type": "markdown",
      "metadata": {
        "id": "uQJhOhDEmrAY"
      },
      "source": [
        "- Loaded images from Google Drive\n",
        "- Stratified split: 64% train, 16% val, 20% test\n",
        "- Oversampled minority classes\n",
        "- Used `ImageDataGenerator` for augmentation\n"
      ]
    },
    {
      "cell_type": "code",
      "execution_count": 7,
      "metadata": {
        "id": "gDRACfXwa4Nl"
      },
      "outputs": [],
      "source": [
        "# First split: 80% train_val, 20% test\n",
        "train_val_df, test_df = train_test_split(df, test_size=0.2, stratify=df['label'], random_state=43, shuffle=True)\n",
        "\n",
        "# Second split: 80% train, 20% val from train_val\n",
        "train_df, val_df = train_test_split(train_val_df, test_size=0.2, stratify=train_val_df['label'], random_state=43, shuffle=True)\n"
      ]
    },
    {
      "cell_type": "code",
      "execution_count": 8,
      "metadata": {
        "colab": {
          "base_uri": "https://localhost:8080/"
        },
        "collapsed": true,
        "id": "4407y4oYbxyL",
        "outputId": "2770a59f-3ac6-46a4-f971-90aa1bc6d523"
      },
      "outputs": [
        {
          "output_type": "stream",
          "name": "stdout",
          "text": [
            "label\n",
            "sailboat           33.33%\n",
            "kayak              17.40%\n",
            "gondola            16.47%\n",
            "cruise_ship        16.33%\n",
            "ferry_boat          5.35%\n",
            "buoy                5.09%\n",
            "paper_boat          2.68%\n",
            "freight_boat        2.01%\n",
            "inflatable_boat     1.34%\n",
            "Name: count, dtype: object\n"
          ]
        }
      ],
      "source": [
        "class_counts = (train_df['label'].value_counts() / len(train_df)) * 100\n",
        "\n",
        "# Format to 4 decimal places and add %\n",
        "formatted = class_counts.apply(lambda x: f\"{x:.2f}%\")\n",
        "\n",
        "print(formatted)\n"
      ]
    },
    {
      "cell_type": "markdown",
      "metadata": {
        "id": "twxrCYxbtAUh"
      },
      "source": [
        "# oversampling of **minority classes**"
      ]
    },
    {
      "cell_type": "code",
      "execution_count": 9,
      "metadata": {
        "id": "kdCLvm7aU71V"
      },
      "outputs": [],
      "source": [
        "# Define minority threshold (e.g., < threshold count)\n",
        "class_counts = train_df['label'].value_counts()\n",
        "minority_classes = class_counts[class_counts < 20].index.tolist()\n",
        "\n",
        "# Split dataframe into majority and minority\n",
        "minority_df = train_df[train_df['label'].isin(minority_classes)]\n",
        "\n",
        "# Optionally oversample minority class\n",
        "oversampled_minority_df = pd.concat([minority_df] * 5, ignore_index=True)\n",
        "\n",
        "# Majority class\n",
        "majority_df = train_df[~train_df['label'].isin(minority_classes)]\n",
        "\n",
        "# Combine them\n",
        "balanced_train_df = pd.concat([majority_df, oversampled_minority_df], ignore_index=True)\n",
        "\n"
      ]
    },
    {
      "cell_type": "code",
      "execution_count": 10,
      "metadata": {
        "colab": {
          "base_uri": "https://localhost:8080/"
        },
        "collapsed": true,
        "id": "bMxCsBYUko74",
        "outputId": "9c2d4d69-5173-41af-8fea-888b617e3c34"
      },
      "outputs": [
        {
          "output_type": "stream",
          "name": "stdout",
          "text": [
            "label\n",
            "sailboat           29.40%\n",
            "kayak              15.35%\n",
            "gondola            14.52%\n",
            "cruise_ship        14.40%\n",
            "freight_boat        8.85%\n",
            "inflatable_boat     5.90%\n",
            "ferry_boat          4.72%\n",
            "buoy                4.49%\n",
            "paper_boat          2.36%\n",
            "Name: count, dtype: object\n"
          ]
        }
      ],
      "source": [
        "balanced_class_counts = (balanced_train_df['label'].value_counts() / len(balanced_train_df)) * 100\n",
        "\n",
        "# Format to 4 decimal places and add %\n",
        "formatted_2 = balanced_class_counts.apply(lambda x: f\"{x:.2f}%\")\n",
        "\n",
        "print(formatted_2)"
      ]
    },
    {
      "cell_type": "markdown",
      "metadata": {
        "id": "7cD2zvtLtH-4"
      },
      "source": [
        "# **Augmentation** of minority classes(rotation, rescale, zoom, flip, etc.)"
      ]
    },
    {
      "cell_type": "code",
      "execution_count": 11,
      "metadata": {
        "id": "fAWLkxqWkPYM"
      },
      "outputs": [],
      "source": [
        "#  augmentation for minority\n",
        "minority_aug = preprocessing.image.ImageDataGenerator(\n",
        "    rescale=1./255,\n",
        "    rotation_range=30,\n",
        "    zoom_range=0.2,\n",
        "    horizontal_flip=True\n",
        ")\n",
        "\n",
        "# NO augmentation for majority\n",
        "majority_aug = preprocessing.image.ImageDataGenerator(\n",
        "    rescale=1./255\n",
        ")\n",
        "\n",
        "# Validation and test - rescaling only\n",
        "plain_gen = preprocessing.image.ImageDataGenerator(rescale=1./255)"
      ]
    },
    {
      "cell_type": "markdown",
      "metadata": {
        "id": "ul4WLrnTskJ8"
      },
      "source": [
        "| Stage                       | Subset Name         | Source                   | Processing Steps                             | Purpose                                 |\n",
        "|----------------------------|---------------------|--------------------------|----------------------------------------------|-----------------------------------------|\n",
        "| Original dataset           | `train_df`          | Labeled dataset (csv/folder) | None                                       | Full dataset to be split and prepped    |\n",
        "| Train-validation split     | `train_core_df`     | Subset of `train_df`     | Stratified split (e.g., 80%)                | Used for training                        |\n",
        "|                            | `val_df`            | Subset of `train_df`     | Stratified split (e.g., 20%)                | Used for validation                      |\n",
        "| Oversampling               | `oversampled_minority_df` | From `train_core_df` | Duplicate rare-class rows                  | Balance class distribution              |\n",
        "| Majority set               | `majority_df`       | From `train_core_df`     | No duplication                             | Preserve original majority distribution |\n",
        "| Augmentation applied       | `minority_gen`      | From `oversampled_minority_df` | Strong augmentation + rescale (ImageDataGenerator) | Increase diversity for minority classes |\n",
        "|                            | `majority_gen`      | From `majority_df`       | Light or no augmentation + rescale         | Maintain consistency for majority class |\n",
        "| Generator merge            | `train_combined`    | `minority_gen + majority_gen` | Zip/combine batches                        | Unified training input to model         |\n",
        "| Validation generator       | `val_gen`           | From `val_df`            | Rescale only, no augmentation              | Model tuning and early stopping         |\n",
        "| Test generator             | `test_gen`          | Separate held-out set     | Rescale only, no augmentation              | Final unbiased performance evaluation   |\n"
      ]
    },
    {
      "cell_type": "code",
      "execution_count": 12,
      "metadata": {
        "colab": {
          "base_uri": "https://localhost:8080/"
        },
        "id": "0hc47l7qU7I0",
        "outputId": "f4c4349c-0b2e-49f1-bf32-4e429cfe6c01"
      },
      "outputs": [
        {
          "output_type": "stream",
          "name": "stdout",
          "text": [
            "Found 125 validated image filenames belonging to 9 classes.\n",
            "Found 722 validated image filenames belonging to 9 classes.\n",
            "Found 187 validated image filenames belonging to 9 classes.\n",
            "Found 234 validated image filenames belonging to 9 classes.\n"
          ]
        }
      ],
      "source": [
        "class_list = sorted(df['label'].unique().tolist())\n",
        "\n",
        "\n",
        "# Minority generator\n",
        "minority_gen = minority_aug.flow_from_dataframe(\n",
        "    dataframe=oversampled_minority_df,\n",
        "    x_col='file_path',\n",
        "    y_col='label',\n",
        "    target_size=(224, 224),\n",
        "    class_mode='categorical',\n",
        "    batch_size=32,\n",
        "    shuffle=True,\n",
        "    classes=class_list\n",
        ")\n",
        "\n",
        "# Majority generator\n",
        "majority_gen = majority_aug.flow_from_dataframe(\n",
        "    dataframe=majority_df,\n",
        "    x_col='file_path',\n",
        "    y_col='label',\n",
        "    target_size=(224, 224),\n",
        "    class_mode='categorical',\n",
        "    batch_size=32,\n",
        "    shuffle=True,\n",
        "    classes=class_list\n",
        ")\n",
        "\n",
        "# Combine majority and minority train generators\n",
        "import numpy as np\n",
        "\n",
        "def combined_generator(gen1, gen2):\n",
        "    while True:\n",
        "        x1, y1 = next(gen1)\n",
        "        x2, y2 = next(gen2)\n",
        "        yield np.concatenate([x1, x2]), np.concatenate([y1, y2])\n",
        "\n",
        "train_combined = combined_generator(minority_gen, majority_gen)\n",
        "\n",
        "\n",
        "\n",
        "# Validation generator\n",
        "val_gen = plain_gen.flow_from_dataframe(\n",
        "    dataframe=val_df,\n",
        "    x_col='file_path',\n",
        "    y_col='label',\n",
        "    target_size=(224, 224),\n",
        "    class_mode='categorical',\n",
        "    batch_size=32,\n",
        "    shuffle=False,\n",
        "    classes=class_list\n",
        ")\n",
        "\n",
        "# Test generator\n",
        "test_gen = plain_gen.flow_from_dataframe(\n",
        "    dataframe=test_df,\n",
        "    x_col='file_path',\n",
        "    y_col='label',  # If test labels exist; otherwise use class_mode=None\n",
        "    target_size=(224, 224),\n",
        "    class_mode='categorical',  # Or None if labels are missing\n",
        "    batch_size=32,\n",
        "    shuffle=False,\n",
        "    classes=class_list\n",
        ")\n"
      ]
    },
    {
      "cell_type": "code",
      "execution_count": 13,
      "metadata": {
        "colab": {
          "base_uri": "https://localhost:8080/",
          "height": 469
        },
        "id": "eo3W_7AwUYkC",
        "outputId": "d7626661-167c-4e13-a198-3d3e71b4b140"
      },
      "outputs": [
        {
          "output_type": "stream",
          "name": "stderr",
          "text": [
            "/usr/local/lib/python3.11/dist-packages/keras/src/layers/convolutional/base_conv.py:107: UserWarning: Do not pass an `input_shape`/`input_dim` argument to a layer. When using Sequential models, prefer using an `Input(shape)` object as the first layer in the model instead.\n",
            "  super().__init__(activity_regularizer=activity_regularizer, **kwargs)\n"
          ]
        },
        {
          "output_type": "display_data",
          "data": {
            "text/plain": [
              "\u001b[1mModel: \"sequential\"\u001b[0m\n"
            ],
            "text/html": [
              "<pre style=\"white-space:pre;overflow-x:auto;line-height:normal;font-family:Menlo,'DejaVu Sans Mono',consolas,'Courier New',monospace\"><span style=\"font-weight: bold\">Model: \"sequential\"</span>\n",
              "</pre>\n"
            ]
          },
          "metadata": {}
        },
        {
          "output_type": "display_data",
          "data": {
            "text/plain": [
              "┏━━━━━━━━━━━━━━━━━━━━━━━━━━━━━━━━━┳━━━━━━━━━━━━━━━━━━━━━━━━┳━━━━━━━━━━━━━━━┓\n",
              "┃\u001b[1m \u001b[0m\u001b[1mLayer (type)                   \u001b[0m\u001b[1m \u001b[0m┃\u001b[1m \u001b[0m\u001b[1mOutput Shape          \u001b[0m\u001b[1m \u001b[0m┃\u001b[1m \u001b[0m\u001b[1m      Param #\u001b[0m\u001b[1m \u001b[0m┃\n",
              "┡━━━━━━━━━━━━━━━━━━━━━━━━━━━━━━━━━╇━━━━━━━━━━━━━━━━━━━━━━━━╇━━━━━━━━━━━━━━━┩\n",
              "│ conv2d (\u001b[38;5;33mConv2D\u001b[0m)                 │ (\u001b[38;5;45mNone\u001b[0m, \u001b[38;5;34m222\u001b[0m, \u001b[38;5;34m222\u001b[0m, \u001b[38;5;34m32\u001b[0m)   │           \u001b[38;5;34m896\u001b[0m │\n",
              "├─────────────────────────────────┼────────────────────────┼───────────────┤\n",
              "│ max_pooling2d (\u001b[38;5;33mMaxPooling2D\u001b[0m)    │ (\u001b[38;5;45mNone\u001b[0m, \u001b[38;5;34m111\u001b[0m, \u001b[38;5;34m111\u001b[0m, \u001b[38;5;34m32\u001b[0m)   │             \u001b[38;5;34m0\u001b[0m │\n",
              "├─────────────────────────────────┼────────────────────────┼───────────────┤\n",
              "│ conv2d_1 (\u001b[38;5;33mConv2D\u001b[0m)               │ (\u001b[38;5;45mNone\u001b[0m, \u001b[38;5;34m109\u001b[0m, \u001b[38;5;34m109\u001b[0m, \u001b[38;5;34m32\u001b[0m)   │         \u001b[38;5;34m9,248\u001b[0m │\n",
              "├─────────────────────────────────┼────────────────────────┼───────────────┤\n",
              "│ max_pooling2d_1 (\u001b[38;5;33mMaxPooling2D\u001b[0m)  │ (\u001b[38;5;45mNone\u001b[0m, \u001b[38;5;34m54\u001b[0m, \u001b[38;5;34m54\u001b[0m, \u001b[38;5;34m32\u001b[0m)     │             \u001b[38;5;34m0\u001b[0m │\n",
              "├─────────────────────────────────┼────────────────────────┼───────────────┤\n",
              "│ global_average_pooling2d_1      │ (\u001b[38;5;45mNone\u001b[0m, \u001b[38;5;34m32\u001b[0m)             │             \u001b[38;5;34m0\u001b[0m │\n",
              "│ (\u001b[38;5;33mGlobalAveragePooling2D\u001b[0m)        │                        │               │\n",
              "├─────────────────────────────────┼────────────────────────┼───────────────┤\n",
              "│ dense (\u001b[38;5;33mDense\u001b[0m)                   │ (\u001b[38;5;45mNone\u001b[0m, \u001b[38;5;34m128\u001b[0m)            │         \u001b[38;5;34m4,224\u001b[0m │\n",
              "├─────────────────────────────────┼────────────────────────┼───────────────┤\n",
              "│ dense_1 (\u001b[38;5;33mDense\u001b[0m)                 │ (\u001b[38;5;45mNone\u001b[0m, \u001b[38;5;34m128\u001b[0m)            │        \u001b[38;5;34m16,512\u001b[0m │\n",
              "├─────────────────────────────────┼────────────────────────┼───────────────┤\n",
              "│ dense_2 (\u001b[38;5;33mDense\u001b[0m)                 │ (\u001b[38;5;45mNone\u001b[0m, \u001b[38;5;34m9\u001b[0m)              │         \u001b[38;5;34m1,161\u001b[0m │\n",
              "└─────────────────────────────────┴────────────────────────┴───────────────┘\n"
            ],
            "text/html": [
              "<pre style=\"white-space:pre;overflow-x:auto;line-height:normal;font-family:Menlo,'DejaVu Sans Mono',consolas,'Courier New',monospace\">┏━━━━━━━━━━━━━━━━━━━━━━━━━━━━━━━━━┳━━━━━━━━━━━━━━━━━━━━━━━━┳━━━━━━━━━━━━━━━┓\n",
              "┃<span style=\"font-weight: bold\"> Layer (type)                    </span>┃<span style=\"font-weight: bold\"> Output Shape           </span>┃<span style=\"font-weight: bold\">       Param # </span>┃\n",
              "┡━━━━━━━━━━━━━━━━━━━━━━━━━━━━━━━━━╇━━━━━━━━━━━━━━━━━━━━━━━━╇━━━━━━━━━━━━━━━┩\n",
              "│ conv2d (<span style=\"color: #0087ff; text-decoration-color: #0087ff\">Conv2D</span>)                 │ (<span style=\"color: #00d7ff; text-decoration-color: #00d7ff\">None</span>, <span style=\"color: #00af00; text-decoration-color: #00af00\">222</span>, <span style=\"color: #00af00; text-decoration-color: #00af00\">222</span>, <span style=\"color: #00af00; text-decoration-color: #00af00\">32</span>)   │           <span style=\"color: #00af00; text-decoration-color: #00af00\">896</span> │\n",
              "├─────────────────────────────────┼────────────────────────┼───────────────┤\n",
              "│ max_pooling2d (<span style=\"color: #0087ff; text-decoration-color: #0087ff\">MaxPooling2D</span>)    │ (<span style=\"color: #00d7ff; text-decoration-color: #00d7ff\">None</span>, <span style=\"color: #00af00; text-decoration-color: #00af00\">111</span>, <span style=\"color: #00af00; text-decoration-color: #00af00\">111</span>, <span style=\"color: #00af00; text-decoration-color: #00af00\">32</span>)   │             <span style=\"color: #00af00; text-decoration-color: #00af00\">0</span> │\n",
              "├─────────────────────────────────┼────────────────────────┼───────────────┤\n",
              "│ conv2d_1 (<span style=\"color: #0087ff; text-decoration-color: #0087ff\">Conv2D</span>)               │ (<span style=\"color: #00d7ff; text-decoration-color: #00d7ff\">None</span>, <span style=\"color: #00af00; text-decoration-color: #00af00\">109</span>, <span style=\"color: #00af00; text-decoration-color: #00af00\">109</span>, <span style=\"color: #00af00; text-decoration-color: #00af00\">32</span>)   │         <span style=\"color: #00af00; text-decoration-color: #00af00\">9,248</span> │\n",
              "├─────────────────────────────────┼────────────────────────┼───────────────┤\n",
              "│ max_pooling2d_1 (<span style=\"color: #0087ff; text-decoration-color: #0087ff\">MaxPooling2D</span>)  │ (<span style=\"color: #00d7ff; text-decoration-color: #00d7ff\">None</span>, <span style=\"color: #00af00; text-decoration-color: #00af00\">54</span>, <span style=\"color: #00af00; text-decoration-color: #00af00\">54</span>, <span style=\"color: #00af00; text-decoration-color: #00af00\">32</span>)     │             <span style=\"color: #00af00; text-decoration-color: #00af00\">0</span> │\n",
              "├─────────────────────────────────┼────────────────────────┼───────────────┤\n",
              "│ global_average_pooling2d_1      │ (<span style=\"color: #00d7ff; text-decoration-color: #00d7ff\">None</span>, <span style=\"color: #00af00; text-decoration-color: #00af00\">32</span>)             │             <span style=\"color: #00af00; text-decoration-color: #00af00\">0</span> │\n",
              "│ (<span style=\"color: #0087ff; text-decoration-color: #0087ff\">GlobalAveragePooling2D</span>)        │                        │               │\n",
              "├─────────────────────────────────┼────────────────────────┼───────────────┤\n",
              "│ dense (<span style=\"color: #0087ff; text-decoration-color: #0087ff\">Dense</span>)                   │ (<span style=\"color: #00d7ff; text-decoration-color: #00d7ff\">None</span>, <span style=\"color: #00af00; text-decoration-color: #00af00\">128</span>)            │         <span style=\"color: #00af00; text-decoration-color: #00af00\">4,224</span> │\n",
              "├─────────────────────────────────┼────────────────────────┼───────────────┤\n",
              "│ dense_1 (<span style=\"color: #0087ff; text-decoration-color: #0087ff\">Dense</span>)                 │ (<span style=\"color: #00d7ff; text-decoration-color: #00d7ff\">None</span>, <span style=\"color: #00af00; text-decoration-color: #00af00\">128</span>)            │        <span style=\"color: #00af00; text-decoration-color: #00af00\">16,512</span> │\n",
              "├─────────────────────────────────┼────────────────────────┼───────────────┤\n",
              "│ dense_2 (<span style=\"color: #0087ff; text-decoration-color: #0087ff\">Dense</span>)                 │ (<span style=\"color: #00d7ff; text-decoration-color: #00d7ff\">None</span>, <span style=\"color: #00af00; text-decoration-color: #00af00\">9</span>)              │         <span style=\"color: #00af00; text-decoration-color: #00af00\">1,161</span> │\n",
              "└─────────────────────────────────┴────────────────────────┴───────────────┘\n",
              "</pre>\n"
            ]
          },
          "metadata": {}
        },
        {
          "output_type": "display_data",
          "data": {
            "text/plain": [
              "\u001b[1m Total params: \u001b[0m\u001b[38;5;34m32,041\u001b[0m (125.16 KB)\n"
            ],
            "text/html": [
              "<pre style=\"white-space:pre;overflow-x:auto;line-height:normal;font-family:Menlo,'DejaVu Sans Mono',consolas,'Courier New',monospace\"><span style=\"font-weight: bold\"> Total params: </span><span style=\"color: #00af00; text-decoration-color: #00af00\">32,041</span> (125.16 KB)\n",
              "</pre>\n"
            ]
          },
          "metadata": {}
        },
        {
          "output_type": "display_data",
          "data": {
            "text/plain": [
              "\u001b[1m Trainable params: \u001b[0m\u001b[38;5;34m32,041\u001b[0m (125.16 KB)\n"
            ],
            "text/html": [
              "<pre style=\"white-space:pre;overflow-x:auto;line-height:normal;font-family:Menlo,'DejaVu Sans Mono',consolas,'Courier New',monospace\"><span style=\"font-weight: bold\"> Trainable params: </span><span style=\"color: #00af00; text-decoration-color: #00af00\">32,041</span> (125.16 KB)\n",
              "</pre>\n"
            ]
          },
          "metadata": {}
        },
        {
          "output_type": "display_data",
          "data": {
            "text/plain": [
              "\u001b[1m Non-trainable params: \u001b[0m\u001b[38;5;34m0\u001b[0m (0.00 B)\n"
            ],
            "text/html": [
              "<pre style=\"white-space:pre;overflow-x:auto;line-height:normal;font-family:Menlo,'DejaVu Sans Mono',consolas,'Courier New',monospace\"><span style=\"font-weight: bold\"> Non-trainable params: </span><span style=\"color: #00af00; text-decoration-color: #00af00\">0</span> (0.00 B)\n",
              "</pre>\n"
            ]
          },
          "metadata": {}
        }
      ],
      "source": [
        "from tensorflow.keras import models, layers, metrics\n",
        "\n",
        "model = models.Sequential([\n",
        "    layers.Conv2D(32, (3, 3), activation='relu', input_shape=(224, 224, 3)),\n",
        "    layers.MaxPooling2D((2, 2)),\n",
        "\n",
        "    layers.Conv2D(32, (3, 3), activation='relu'),\n",
        "    layers.MaxPooling2D((2, 2)),\n",
        "\n",
        "    layers.GlobalAveragePooling2D(),\n",
        "\n",
        "    layers.Dense(128, activation='relu'),\n",
        "    layers.Dense(128, activation='relu'),\n",
        "\n",
        "    layers.Dense(9, activation='softmax')  # Replace 9 if needed\n",
        "])\n",
        "\n",
        "model.compile(optimizer='adam',\n",
        "              loss='categorical_crossentropy',\n",
        "              metrics=[metrics.CategoricalAccuracy(name=\"Accuracy\"),\n",
        "                  metrics.Precision(name=\"precision\"),\n",
        "                  metrics.Recall(name=\"recall\")]) # Added closing parenthesis here\n",
        "model.summary()"
      ]
    },
    {
      "cell_type": "code",
      "execution_count": 14,
      "metadata": {
        "colab": {
          "base_uri": "https://localhost:8080/"
        },
        "id": "ZizE5xFRqBR4",
        "outputId": "c419f446-c754-43c3-de28-df973088c253"
      },
      "outputs": [
        {
          "output_type": "stream",
          "name": "stdout",
          "text": [
            "Epoch 1/20\n",
            "\u001b[1m26/26\u001b[0m \u001b[32m━━━━━━━━━━━━━━━━━━━━\u001b[0m\u001b[37m\u001b[0m \u001b[1m0s\u001b[0m 14s/step - Accuracy: 0.2836 - loss: 2.0354 - precision: 0.1506 - recall: 5.0792e-04 "
          ]
        },
        {
          "output_type": "stream",
          "name": "stderr",
          "text": [
            "/usr/local/lib/python3.11/dist-packages/keras/src/trainers/data_adapters/py_dataset_adapter.py:121: UserWarning: Your `PyDataset` class should call `super().__init__(**kwargs)` in its constructor. `**kwargs` can include `workers`, `use_multiprocessing`, `max_queue_size`. Do not pass these arguments to `fit()`, as they will be ignored.\n",
            "  self._warn_if_super_not_called()\n"
          ]
        },
        {
          "output_type": "stream",
          "name": "stdout",
          "text": [
            "\b\b\b\b\b\b\b\b\b\b\b\b\b\b\b\b\b\b\b\b\b\b\b\b\b\b\b\b\b\b\b\b\b\b\b\b\b\b\b\b\b\b\b\b\b\b\b\b\b\b\b\b\b\b\b\b\b\b\b\b\b\b\b\b\b\b\b\b\b\b\b\b\b\b\b\b\b\b\b\b\b\b\b\b\b\b\b\b\b\b\b\b\b\b\b\b\b\b\b\b\b\b\b\b\b\b\b\b\b\b\b\b\b\r\u001b[1m26/26\u001b[0m \u001b[32m━━━━━━━━━━━━━━━━━━━━\u001b[0m\u001b[37m\u001b[0m \u001b[1m418s\u001b[0m 16s/step - Accuracy: 0.2840 - loss: 2.0325 - precision: 0.1543 - recall: 5.1181e-04 - val_Accuracy: 0.0250 - val_loss: 2.3192 - val_precision: 0.0000e+00 - val_recall: 0.0000e+00\n",
            "Epoch 2/20\n",
            "\u001b[1m26/26\u001b[0m \u001b[32m━━━━━━━━━━━━━━━━━━━━\u001b[0m\u001b[37m\u001b[0m \u001b[1m40s\u001b[0m 2s/step - Accuracy: 0.2995 - loss: 1.8702 - precision: 0.0212 - recall: 9.3718e-05 - val_Accuracy: 0.0250 - val_loss: 2.2773 - val_precision: 0.0000e+00 - val_recall: 0.0000e+00\n",
            "Epoch 3/20\n",
            "\u001b[1m26/26\u001b[0m \u001b[32m━━━━━━━━━━━━━━━━━━━━\u001b[0m\u001b[37m\u001b[0m \u001b[1m21s\u001b[0m 827ms/step - Accuracy: 0.3090 - loss: 1.8549 - precision: 0.0771 - recall: 0.0015 - val_Accuracy: 0.0437 - val_loss: 2.2539 - val_precision: 0.0000e+00 - val_recall: 0.0000e+00\n",
            "Epoch 4/20\n",
            "\u001b[1m26/26\u001b[0m \u001b[32m━━━━━━━━━━━━━━━━━━━━\u001b[0m\u001b[37m\u001b[0m \u001b[1m25s\u001b[0m 995ms/step - Accuracy: 0.3575 - loss: 1.7564 - precision: 0.4868 - recall: 0.0476 - val_Accuracy: 0.1000 - val_loss: 2.1501 - val_precision: 0.0000e+00 - val_recall: 0.0000e+00\n",
            "Epoch 5/20\n",
            "\u001b[1m26/26\u001b[0m \u001b[32m━━━━━━━━━━━━━━━━━━━━\u001b[0m\u001b[37m\u001b[0m \u001b[1m26s\u001b[0m 1s/step - Accuracy: 0.3844 - loss: 1.7297 - precision: 0.5712 - recall: 0.0706 - val_Accuracy: 0.0437 - val_loss: 2.2952 - val_precision: 0.0000e+00 - val_recall: 0.0000e+00\n",
            "Epoch 6/20\n",
            "\u001b[1m26/26\u001b[0m \u001b[32m━━━━━━━━━━━━━━━━━━━━\u001b[0m\u001b[37m\u001b[0m \u001b[1m25s\u001b[0m 1s/step - Accuracy: 0.3992 - loss: 1.6797 - precision: 0.5878 - recall: 0.1204 - val_Accuracy: 0.0688 - val_loss: 2.1394 - val_precision: 0.0000e+00 - val_recall: 0.0000e+00\n",
            "Epoch 7/20\n",
            "\u001b[1m26/26\u001b[0m \u001b[32m━━━━━━━━━━━━━━━━━━━━\u001b[0m\u001b[37m\u001b[0m \u001b[1m40s\u001b[0m 2s/step - Accuracy: 0.3783 - loss: 1.6956 - precision: 0.6173 - recall: 0.1049 - val_Accuracy: 0.1187 - val_loss: 2.2583 - val_precision: 0.0000e+00 - val_recall: 0.0000e+00\n",
            "Epoch 8/20\n",
            "\u001b[1m26/26\u001b[0m \u001b[32m━━━━━━━━━━━━━━━━━━━━\u001b[0m\u001b[37m\u001b[0m \u001b[1m21s\u001b[0m 847ms/step - Accuracy: 0.4149 - loss: 1.6353 - precision: 0.6788 - recall: 0.1680 - val_Accuracy: 0.1437 - val_loss: 2.2292 - val_precision: 0.0000e+00 - val_recall: 0.0000e+00\n",
            "Epoch 9/20\n",
            "\u001b[1m26/26\u001b[0m \u001b[32m━━━━━━━━━━━━━━━━━━━━\u001b[0m\u001b[37m\u001b[0m \u001b[1m20s\u001b[0m 804ms/step - Accuracy: 0.4341 - loss: 1.5782 - precision: 0.6657 - recall: 0.1733 - val_Accuracy: 0.1688 - val_loss: 2.1068 - val_precision: 0.0000e+00 - val_recall: 0.0000e+00\n",
            "Epoch 10/20\n",
            "\u001b[1m26/26\u001b[0m \u001b[32m━━━━━━━━━━━━━━━━━━━━\u001b[0m\u001b[37m\u001b[0m \u001b[1m21s\u001b[0m 837ms/step - Accuracy: 0.4521 - loss: 1.5473 - precision: 0.6683 - recall: 0.1551 - val_Accuracy: 0.1500 - val_loss: 2.2061 - val_precision: 0.0000e+00 - val_recall: 0.0000e+00\n",
            "Epoch 11/20\n",
            "\u001b[1m26/26\u001b[0m \u001b[32m━━━━━━━━━━━━━━━━━━━━\u001b[0m\u001b[37m\u001b[0m \u001b[1m24s\u001b[0m 970ms/step - Accuracy: 0.4532 - loss: 1.5342 - precision: 0.6818 - recall: 0.2109 - val_Accuracy: 0.2000 - val_loss: 2.1075 - val_precision: 0.2273 - val_recall: 0.0312\n",
            "Epoch 12/20\n",
            "\u001b[1m26/26\u001b[0m \u001b[32m━━━━━━━━━━━━━━━━━━━━\u001b[0m\u001b[37m\u001b[0m \u001b[1m25s\u001b[0m 996ms/step - Accuracy: 0.4904 - loss: 1.4340 - precision: 0.7411 - recall: 0.2304 - val_Accuracy: 0.3250 - val_loss: 1.9173 - val_precision: 0.3684 - val_recall: 0.0437\n",
            "Epoch 13/20\n",
            "\u001b[1m26/26\u001b[0m \u001b[32m━━━━━━━━━━━━━━━━━━━━\u001b[0m\u001b[37m\u001b[0m \u001b[1m25s\u001b[0m 1s/step - Accuracy: 0.5017 - loss: 1.4227 - precision: 0.7506 - recall: 0.2400 - val_Accuracy: 0.3250 - val_loss: 1.9644 - val_precision: 0.1852 - val_recall: 0.0312\n",
            "Epoch 14/20\n",
            "\u001b[1m26/26\u001b[0m \u001b[32m━━━━━━━━━━━━━━━━━━━━\u001b[0m\u001b[37m\u001b[0m \u001b[1m41s\u001b[0m 2s/step - Accuracy: 0.5224 - loss: 1.3924 - precision: 0.7876 - recall: 0.2656 - val_Accuracy: 0.3000 - val_loss: 2.0190 - val_precision: 0.2857 - val_recall: 0.0625\n",
            "Epoch 15/20\n",
            "\u001b[1m26/26\u001b[0m \u001b[32m━━━━━━━━━━━━━━━━━━━━\u001b[0m\u001b[37m\u001b[0m \u001b[1m10s\u001b[0m 407ms/step - Accuracy: 0.5863 - loss: 1.2395 - precision: 0.7587 - recall: 0.3425 - val_Accuracy: 0.3000 - val_loss: 2.0123 - val_precision: 0.1176 - val_recall: 0.0250\n"
          ]
        }
      ],
      "source": [
        "# Calculate steps per epoch for training and validation\n",
        "# Use the length of the balanced_train_df for the total number of training samples\n",
        "steps_per_epoch = len(balanced_train_df) // 32 # Divide by batch size\n",
        "validation_steps = len(val_df) // 32 # Divide by batch size\n",
        "\n",
        "early_stop = EarlyStopping(monitor='val_loss', patience=3)\n",
        "\n",
        "history = model.fit(\n",
        "    train_combined,\n",
        "    steps_per_epoch=steps_per_epoch,\n",
        "    epochs=20, # Set epochs to 20 as per project description\n",
        "    validation_data=val_gen,\n",
        "    validation_steps=validation_steps,\n",
        "    callbacks=[early_stop]\n",
        ")"
      ]
    },
    {
      "cell_type": "code",
      "execution_count": 15,
      "metadata": {
        "colab": {
          "base_uri": "https://localhost:8080/",
          "height": 491
        },
        "id": "dF4sdqO0yc0v",
        "outputId": "748f59d1-0a54-48dc-9c78-d32119ebf33e"
      },
      "outputs": [
        {
          "output_type": "display_data",
          "data": {
            "text/plain": [
              "<Figure size 1400x500 with 2 Axes>"
            ],
            "image/png": "[encoded data removed]"
          },
          "metadata": {}
        }
      ],
      "source": [
        "epochs_ran = len(history.history['Accuracy'])\n",
        "fig, (plt1, plt2) = plt.subplots(1,2, figsize=(14,5))\n",
        "epoch_x_axis = range(1, epochs_ran + 1)\n",
        "plt1.plot(epoch_x_axis, history.history['Accuracy'], label='Training Accu')\n",
        "plt1.plot(epoch_x_axis, history.history['val_Accuracy'], label='Validation Accu')\n",
        "plt1.set_ylabel('Accuracy')\n",
        "plt1.set_xlabel('Epochs')\n",
        "#early stopping line\n",
        "plt1.axvline(x=epochs_ran-3, linestyle='--', color='gray')\n",
        "plt1.legend()\n",
        "\n",
        "plt2.plot(epoch_x_axis, history.history['loss'], label='Training Loss')\n",
        "plt2.plot(epoch_x_axis, history.history['val_loss'], label='Validation Loss')\n",
        "plt2.set_ylabel('Loss')\n",
        "plt2.set_xlabel('Epochs')\n",
        "plt2.axvline(x=epochs_ran-3, linestyle='--', color='gray')\n",
        "plt2.legend()\n",
        "\n",
        "fig.suptitle('Model Training and Validation Evaluation')\n",
        "fig.tight_layout()"
      ]
    },
    {
      "cell_type": "markdown",
      "metadata": {
        "id": "OwC1z5gH0AjL"
      },
      "source": [
        "# Probabilities or labels for visualizing preductions or computing F1 scores"
      ]
    },
    {
      "cell_type": "code",
      "execution_count": 16,
      "metadata": {
        "colab": {
          "base_uri": "https://localhost:8080/"
        },
        "id": "3m2CY9HUz_dq",
        "outputId": "7a2e6f1c-3dd5-4d7d-ca4c-04a38cf5c674"
      },
      "outputs": [
        {
          "output_type": "stream",
          "name": "stdout",
          "text": [
            "\u001b[1m8/8\u001b[0m \u001b[32m━━━━━━━━━━━━━━━━━━━━\u001b[0m\u001b[37m\u001b[0m \u001b[1m89s\u001b[0m 13s/step\n"
          ]
        }
      ],
      "source": [
        "probs = model.predict(test_gen)         # shape: (n_samples, n_classes)\n",
        "pred_labels = np.argmax(probs, axis=1)  # predicted class indices\n",
        "true_labels = test_gen.classes          # ground truth\n"
      ]
    },
    {
      "cell_type": "code",
      "execution_count": 17,
      "metadata": {
        "colab": {
          "base_uri": "https://localhost:8080/"
        },
        "id": "kWkoOtbr0MKF",
        "outputId": "63ca430b-104d-4c12-d271-98032f43ebab"
      },
      "outputs": [
        {
          "output_type": "stream",
          "name": "stdout",
          "text": [
            "[[ 0  0  0  6  2  0  1  0  3]\n",
            " [ 0 12  0  7  4  4  0  0 11]\n",
            " [ 0  3  0  1  2  4  1  0  2]\n",
            " [ 0  1  0  0  0  2  0  0  1]\n",
            " [ 0  1  0  5 20  4  3  0  6]\n",
            " [ 0  0  0  0  1  1  0  0  1]\n",
            " [ 0  3  0 14  7  8  1  0  8]\n",
            " [ 0  0  0  3  0  2  0  0  1]\n",
            " [ 0  8  0 26 14  5  0  0 25]]\n",
            "                 precision    recall  f1-score   support\n",
            "\n",
            "           buoy       0.00      0.00      0.00        12\n",
            "    cruise_ship       0.43      0.32      0.36        38\n",
            "     ferry_boat       0.00      0.00      0.00        13\n",
            "   freight_boat       0.00      0.00      0.00         4\n",
            "        gondola       0.40      0.51      0.45        39\n",
            "inflatable_boat       0.03      0.33      0.06         3\n",
            "          kayak       0.17      0.02      0.04        41\n",
            "     paper_boat       0.00      0.00      0.00         6\n",
            "       sailboat       0.43      0.32      0.37        78\n",
            "\n",
            "       accuracy                           0.25       234\n",
            "      macro avg       0.16      0.17      0.14       234\n",
            "   weighted avg       0.31      0.25      0.26       234\n",
            "\n"
          ]
        },
        {
          "output_type": "stream",
          "name": "stderr",
          "text": [
            "/usr/local/lib/python3.11/dist-packages/sklearn/metrics/_classification.py:1565: UndefinedMetricWarning: Precision is ill-defined and being set to 0.0 in labels with no predicted samples. Use `zero_division` parameter to control this behavior.\n",
            "  _warn_prf(average, modifier, f\"{metric.capitalize()} is\", len(result))\n",
            "/usr/local/lib/python3.11/dist-packages/sklearn/metrics/_classification.py:1565: UndefinedMetricWarning: Precision is ill-defined and being set to 0.0 in labels with no predicted samples. Use `zero_division` parameter to control this behavior.\n",
            "  _warn_prf(average, modifier, f\"{metric.capitalize()} is\", len(result))\n",
            "/usr/local/lib/python3.11/dist-packages/sklearn/metrics/_classification.py:1565: UndefinedMetricWarning: Precision is ill-defined and being set to 0.0 in labels with no predicted samples. Use `zero_division` parameter to control this behavior.\n",
            "  _warn_prf(average, modifier, f\"{metric.capitalize()} is\", len(result))\n"
          ]
        }
      ],
      "source": [
        "from sklearn.metrics import classification_report, confusion_matrix\n",
        "\n",
        "print(confusion_matrix(true_labels, pred_labels))\n",
        "print(classification_report(true_labels, pred_labels, target_names=test_gen.class_indices.keys()))\n"
      ]
    },
    {
      "cell_type": "markdown",
      "metadata": {
        "id": "VByqGkgTnA2k"
      },
      "source": [
        "Model 2: MobileNetV2 (Transfer Learning)"
      ]
    },
    {
      "cell_type": "code",
      "execution_count": 18,
      "metadata": {
        "id": "TNzNNYl77UcW"
      },
      "outputs": [],
      "source": [
        "def mobile_model(image_size=(224, 224), num_classes=9):\n",
        "    base_model = MobileNetV2(input_shape=(image_size[0], image_size[1], 3),\n",
        "                             include_top=False,\n",
        "                             weights='imagenet')\n",
        "\n",
        "    # Freeze all layers initially\n",
        "    for layer in base_model.layers:\n",
        "        layer.trainable = False\n",
        "\n",
        "    x = base_model.output\n",
        "    x = GlobalAveragePooling2D()(x)\n",
        "    x = Dropout(0.3)(x)\n",
        "    x = Dense(256, activation='relu', kernel_regularizer=l2(0.001))(x)\n",
        "    x = BatchNormalization()(x)\n",
        "    x = Dropout(0.2)(x)\n",
        "    x = Dense(128, activation='relu', kernel_regularizer=l2(0.001))(x)\n",
        "    x = BatchNormalization()(x)\n",
        "    x = Dropout(0.2)(x)\n",
        "    predictions = Dense(num_classes, activation='softmax')(x)\n",
        "\n",
        "    model = Model(inputs=base_model.input, outputs=predictions)\n",
        "    return model\n"
      ]
    },
    {
      "cell_type": "code",
      "execution_count": 19,
      "metadata": {
        "colab": {
          "base_uri": "https://localhost:8080/"
        },
        "id": "NlD6Jw-4Cciq",
        "outputId": "f424ce19-c335-4d7f-e355-bf8def2a12a2"
      },
      "outputs": [
        {
          "output_type": "stream",
          "name": "stdout",
          "text": [
            "Downloading data from https://storage.googleapis.com/tensorflow/keras-applications/mobilenet_v2/mobilenet_v2_weights_tf_dim_ordering_tf_kernels_1.0_224_no_top.h5\n",
            "\u001b[1m9406464/9406464\u001b[0m \u001b[32m━━━━━━━━━━━━━━━━━━━━\u001b[0m\u001b[37m\u001b[0m \u001b[1m0s\u001b[0m 0us/step\n",
            "Epoch 1/30\n",
            "\u001b[1m26/26\u001b[0m \u001b[32m━━━━━━━━━━━━━━━━━━━━\u001b[0m\u001b[37m\u001b[0m \u001b[1m60s\u001b[0m 2s/step - Accuracy: 0.1812 - Precision: 0.2132 - Recall: 0.0748 - loss: 3.3302 - val_Accuracy: 0.1875 - val_Precision: 0.0000e+00 - val_Recall: 0.0000e+00 - val_loss: 2.7352 - learning_rate: 1.0000e-04\n",
            "Epoch 2/30\n",
            "\u001b[1m 2/26\u001b[0m \u001b[32m━\u001b[0m\u001b[37m━━━━━━━━━━━━━━━━━━━\u001b[0m \u001b[1m2s\u001b[0m 92ms/step - Accuracy: 0.3867 - Precision: 0.5130 - Recall: 0.1719 - loss: 2.5786"
          ]
        },
        {
          "output_type": "stream",
          "name": "stderr",
          "text": [
            "/usr/local/lib/python3.11/dist-packages/keras/src/callbacks/model_checkpoint.py:209: UserWarning: Can save best model only with val_accuracy available, skipping.\n",
            "  self._save_model(epoch=epoch, batch=None, logs=logs)\n"
          ]
        },
        {
          "output_type": "stream",
          "name": "stdout",
          "text": [
            "\u001b[1m26/26\u001b[0m \u001b[32m━━━━━━━━━━━━━━━━━━━━\u001b[0m\u001b[37m\u001b[0m \u001b[1m23s\u001b[0m 900ms/step - Accuracy: 0.3988 - Precision: 0.5357 - Recall: 0.2199 - loss: 2.4187 - val_Accuracy: 0.5188 - val_Precision: 1.0000 - val_Recall: 0.0375 - val_loss: 2.2961 - learning_rate: 1.0000e-04\n",
            "Epoch 3/30\n",
            "\u001b[1m26/26\u001b[0m \u001b[32m━━━━━━━━━━━━━━━━━━━━\u001b[0m\u001b[37m\u001b[0m \u001b[1m40s\u001b[0m 2s/step - Accuracy: 0.5555 - Precision: 0.7078 - Recall: 0.3795 - loss: 1.9636 - val_Accuracy: 0.6313 - val_Precision: 0.9091 - val_Recall: 0.1875 - val_loss: 1.9619 - learning_rate: 1.0000e-04\n",
            "Epoch 4/30\n",
            "\u001b[1m26/26\u001b[0m \u001b[32m━━━━━━━━━━━━━━━━━━━━\u001b[0m\u001b[37m\u001b[0m \u001b[1m20s\u001b[0m 777ms/step - Accuracy: 0.6614 - Precision: 0.8233 - Recall: 0.5192 - loss: 1.6559 - val_Accuracy: 0.6875 - val_Precision: 0.9459 - val_Recall: 0.4375 - val_loss: 1.7254 - learning_rate: 1.0000e-04\n",
            "Epoch 5/30\n",
            "\u001b[1m26/26\u001b[0m \u001b[32m━━━━━━━━━━━━━━━━━━━━\u001b[0m\u001b[37m\u001b[0m \u001b[1m24s\u001b[0m 940ms/step - Accuracy: 0.7379 - Precision: 0.8586 - Recall: 0.6297 - loss: 1.4514 - val_Accuracy: 0.7312 - val_Precision: 0.9255 - val_Recall: 0.5437 - val_loss: 1.5576 - learning_rate: 1.0000e-04\n",
            "Epoch 6/30\n",
            "\u001b[1m26/26\u001b[0m \u001b[32m━━━━━━━━━━━━━━━━━━━━\u001b[0m\u001b[37m\u001b[0m \u001b[1m40s\u001b[0m 2s/step - Accuracy: 0.7737 - Precision: 0.8824 - Recall: 0.6680 - loss: 1.3290 - val_Accuracy: 0.7563 - val_Precision: 0.9143 - val_Recall: 0.6000 - val_loss: 1.4555 - learning_rate: 1.0000e-04\n",
            "Epoch 7/30\n",
            "\u001b[1m26/26\u001b[0m \u001b[32m━━━━━━━━━━━━━━━━━━━━\u001b[0m\u001b[37m\u001b[0m \u001b[1m12s\u001b[0m 464ms/step - Accuracy: 0.8208 - Precision: 0.9107 - Recall: 0.7497 - loss: 1.2073 - val_Accuracy: 0.7625 - val_Precision: 0.9027 - val_Recall: 0.6375 - val_loss: 1.3877 - learning_rate: 1.0000e-04\n",
            "Epoch 8/30\n",
            "\u001b[1m26/26\u001b[0m \u001b[32m━━━━━━━━━━━━━━━━━━━━\u001b[0m\u001b[37m\u001b[0m \u001b[1m24s\u001b[0m 974ms/step - Accuracy: 0.8420 - Precision: 0.9299 - Recall: 0.7549 - loss: 1.1475 - val_Accuracy: 0.7500 - val_Precision: 0.8833 - val_Recall: 0.6625 - val_loss: 1.3414 - learning_rate: 1.0000e-04\n",
            "Epoch 9/30\n",
            "\u001b[1m26/26\u001b[0m \u001b[32m━━━━━━━━━━━━━━━━━━━━\u001b[0m\u001b[37m\u001b[0m \u001b[1m41s\u001b[0m 2s/step - Accuracy: 0.8532 - Precision: 0.9298 - Recall: 0.7845 - loss: 1.0859 - val_Accuracy: 0.7563 - val_Precision: 0.8682 - val_Recall: 0.7000 - val_loss: 1.2975 - learning_rate: 1.0000e-04\n",
            "Epoch 10/30\n",
            "\u001b[1m26/26\u001b[0m \u001b[32m━━━━━━━━━━━━━━━━━━━━\u001b[0m\u001b[37m\u001b[0m \u001b[1m10s\u001b[0m 403ms/step - Accuracy: 0.8550 - Precision: 0.9120 - Recall: 0.7966 - loss: 1.0914 - val_Accuracy: 0.7750 - val_Precision: 0.8702 - val_Recall: 0.7125 - val_loss: 1.2650 - learning_rate: 1.0000e-04\n",
            "Epoch 11/30\n",
            "\u001b[1m26/26\u001b[0m \u001b[32m━━━━━━━━━━━━━━━━━━━━\u001b[0m\u001b[37m\u001b[0m \u001b[1m41s\u001b[0m 2s/step - Accuracy: 0.8822 - Precision: 0.9395 - Recall: 0.8275 - loss: 0.9994 - val_Accuracy: 0.7875 - val_Precision: 0.8593 - val_Recall: 0.7250 - val_loss: 1.2418 - learning_rate: 1.0000e-04\n",
            "Epoch 12/30\n",
            "\u001b[1m26/26\u001b[0m \u001b[32m━━━━━━━━━━━━━━━━━━━━\u001b[0m\u001b[37m\u001b[0m \u001b[1m5s\u001b[0m 205ms/step - Accuracy: 0.8935 - Precision: 0.9484 - Recall: 0.8341 - loss: 0.9743 - val_Accuracy: 0.7937 - val_Precision: 0.8540 - val_Recall: 0.7312 - val_loss: 1.2206 - learning_rate: 1.0000e-04\n",
            "Epoch 13/30\n",
            "\u001b[1m26/26\u001b[0m \u001b[32m━━━━━━━━━━━━━━━━━━━━\u001b[0m\u001b[37m\u001b[0m \u001b[1m24s\u001b[0m 975ms/step - Accuracy: 0.8947 - Precision: 0.9497 - Recall: 0.8459 - loss: 0.9409 - val_Accuracy: 0.8000 - val_Precision: 0.8551 - val_Recall: 0.7375 - val_loss: 1.2025 - learning_rate: 1.0000e-04\n",
            "Epoch 14/30\n",
            "\u001b[1m26/26\u001b[0m \u001b[32m━━━━━━━━━━━━━━━━━━━━\u001b[0m\u001b[37m\u001b[0m \u001b[1m24s\u001b[0m 972ms/step - Accuracy: 0.8940 - Precision: 0.9382 - Recall: 0.8559 - loss: 0.9390 - val_Accuracy: 0.8125 - val_Precision: 0.8489 - val_Recall: 0.7375 - val_loss: 1.1860 - learning_rate: 1.0000e-04\n",
            "Epoch 15/30\n",
            "\u001b[1m26/26\u001b[0m \u001b[32m━━━━━━━━━━━━━━━━━━━━\u001b[0m\u001b[37m\u001b[0m \u001b[1m24s\u001b[0m 975ms/step - Accuracy: 0.9063 - Precision: 0.9416 - Recall: 0.8676 - loss: 0.8990 - val_Accuracy: 0.8125 - val_Precision: 0.8582 - val_Recall: 0.7563 - val_loss: 1.1670 - learning_rate: 1.0000e-04\n",
            "Epoch 16/30\n",
            "\u001b[1m26/26\u001b[0m \u001b[32m━━━━━━━━━━━━━━━━━━━━\u001b[0m\u001b[37m\u001b[0m \u001b[1m41s\u001b[0m 2s/step - Accuracy: 0.9074 - Precision: 0.9493 - Recall: 0.8565 - loss: 0.9115 - val_Accuracy: 0.8062 - val_Precision: 0.8582 - val_Recall: 0.7563 - val_loss: 1.1584 - learning_rate: 1.0000e-04\n",
            "Epoch 17/30\n",
            "\u001b[1m26/26\u001b[0m \u001b[32m━━━━━━━━━━━━━━━━━━━━\u001b[0m\u001b[37m\u001b[0m \u001b[1m10s\u001b[0m 400ms/step - Accuracy: 0.9122 - Precision: 0.9560 - Recall: 0.8678 - loss: 0.8749 - val_Accuracy: 0.8062 - val_Precision: 0.8652 - val_Recall: 0.7625 - val_loss: 1.1480 - learning_rate: 1.0000e-04\n",
            "Epoch 18/30\n",
            "\u001b[1m26/26\u001b[0m \u001b[32m━━━━━━━━━━━━━━━━━━━━\u001b[0m\u001b[37m\u001b[0m \u001b[1m41s\u001b[0m 2s/step - Accuracy: 0.9289 - Precision: 0.9579 - Recall: 0.8972 - loss: 0.8284 - val_Accuracy: 0.8125 - val_Precision: 0.8592 - val_Recall: 0.7625 - val_loss: 1.1393 - learning_rate: 1.0000e-04\n",
            "Epoch 19/30\n",
            "\u001b[1m26/26\u001b[0m \u001b[32m━━━━━━━━━━━━━━━━━━━━\u001b[0m\u001b[37m\u001b[0m \u001b[1m5s\u001b[0m 180ms/step - Accuracy: 0.9213 - Precision: 0.9600 - Recall: 0.8835 - loss: 0.8441 - val_Accuracy: 0.8125 - val_Precision: 0.8531 - val_Recall: 0.7625 - val_loss: 1.1329 - learning_rate: 1.0000e-04\n",
            "Epoch 20/30\n",
            "\u001b[1m26/26\u001b[0m \u001b[32m━━━━━━━━━━━━━━━━━━━━\u001b[0m\u001b[37m\u001b[0m \u001b[1m25s\u001b[0m 983ms/step - Accuracy: 0.9232 - Precision: 0.9538 - Recall: 0.8844 - loss: 0.8404 - val_Accuracy: 0.8250 - val_Precision: 0.8741 - val_Recall: 0.7812 - val_loss: 1.1243 - learning_rate: 1.0000e-04\n",
            "Epoch 21/30\n",
            "\u001b[1m26/26\u001b[0m \u001b[32m━━━━━━━━━━━━━━━━━━━━\u001b[0m\u001b[37m\u001b[0m \u001b[1m25s\u001b[0m 996ms/step - Accuracy: 0.9367 - Precision: 0.9608 - Recall: 0.9016 - loss: 0.8093 - val_Accuracy: 0.8313 - val_Precision: 0.8759 - val_Recall: 0.7937 - val_loss: 1.1155 - learning_rate: 1.0000e-04\n",
            "Epoch 22/30\n",
            "\u001b[1m26/26\u001b[0m \u001b[32m━━━━━━━━━━━━━━━━━━━━\u001b[0m\u001b[37m\u001b[0m \u001b[1m25s\u001b[0m 980ms/step - Accuracy: 0.9350 - Precision: 0.9637 - Recall: 0.9100 - loss: 0.7907 - val_Accuracy: 0.8438 - val_Precision: 0.8699 - val_Recall: 0.7937 - val_loss: 1.1110 - learning_rate: 1.0000e-04\n",
            "Epoch 23/30\n",
            "\u001b[1m26/26\u001b[0m \u001b[32m━━━━━━━━━━━━━━━━━━━━\u001b[0m\u001b[37m\u001b[0m \u001b[1m41s\u001b[0m 2s/step - Accuracy: 0.9457 - Precision: 0.9715 - Recall: 0.9211 - loss: 0.7811 - val_Accuracy: 0.8500 - val_Precision: 0.8639 - val_Recall: 0.7937 - val_loss: 1.1097 - learning_rate: 1.0000e-04\n",
            "Epoch 24/30\n",
            "\u001b[1m26/26\u001b[0m \u001b[32m━━━━━━━━━━━━━━━━━━━━\u001b[0m\u001b[37m\u001b[0m \u001b[1m11s\u001b[0m 430ms/step - Accuracy: 0.9415 - Precision: 0.9683 - Recall: 0.9212 - loss: 0.7688 - val_Accuracy: 0.8562 - val_Precision: 0.8699 - val_Recall: 0.7937 - val_loss: 1.1022 - learning_rate: 1.0000e-04\n",
            "Epoch 25/30\n",
            "\u001b[1m26/26\u001b[0m \u001b[32m━━━━━━━━━━━━━━━━━━━━\u001b[0m\u001b[37m\u001b[0m \u001b[1m21s\u001b[0m 818ms/step - Accuracy: 0.9416 - Precision: 0.9622 - Recall: 0.9163 - loss: 0.7736 - val_Accuracy: 0.8562 - val_Precision: 0.8784 - val_Recall: 0.8125 - val_loss: 1.0986 - learning_rate: 1.0000e-04\n",
            "Epoch 26/30\n",
            "\u001b[1m26/26\u001b[0m \u001b[32m━━━━━━━━━━━━━━━━━━━━\u001b[0m\u001b[37m\u001b[0m \u001b[1m24s\u001b[0m 974ms/step - Accuracy: 0.9471 - Precision: 0.9704 - Recall: 0.9160 - loss: 0.7700 - val_Accuracy: 0.8500 - val_Precision: 0.8851 - val_Recall: 0.8188 - val_loss: 1.0920 - learning_rate: 1.0000e-04\n",
            "Epoch 27/30\n",
            "\u001b[1m26/26\u001b[0m \u001b[32m━━━━━━━━━━━━━━━━━━━━\u001b[0m\u001b[37m\u001b[0m \u001b[1m41s\u001b[0m 2s/step - Accuracy: 0.9682 - Precision: 0.9845 - Recall: 0.9479 - loss: 0.7258 - val_Accuracy: 0.8500 - val_Precision: 0.8859 - val_Recall: 0.8250 - val_loss: 1.0960 - learning_rate: 1.0000e-04\n",
            "Epoch 28/30\n",
            "\u001b[1m26/26\u001b[0m \u001b[32m━━━━━━━━━━━━━━━━━━━━\u001b[0m\u001b[37m\u001b[0m \u001b[1m0s\u001b[0m 240ms/step - Accuracy: 0.9499 - Precision: 0.9741 - Recall: 0.9223 - loss: 0.7662\n",
            "Epoch 28: ReduceLROnPlateau reducing learning rate to 2.9999999242136255e-05.\n",
            "\u001b[1m26/26\u001b[0m \u001b[32m━━━━━━━━━━━━━━━━━━━━\u001b[0m\u001b[37m\u001b[0m \u001b[1m10s\u001b[0m 409ms/step - Accuracy: 0.9500 - Precision: 0.9740 - Recall: 0.9227 - loss: 0.7655 - val_Accuracy: 0.8562 - val_Precision: 0.8851 - val_Recall: 0.8188 - val_loss: 1.0934 - learning_rate: 1.0000e-04\n",
            "Epoch 29/30\n",
            "\u001b[1m26/26\u001b[0m \u001b[32m━━━━━━━━━━━━━━━━━━━━\u001b[0m\u001b[37m\u001b[0m \u001b[1m41s\u001b[0m 2s/step - Accuracy: 0.9505 - Precision: 0.9668 - Recall: 0.9378 - loss: 0.7400 - val_Accuracy: 0.8500 - val_Precision: 0.8851 - val_Recall: 0.8188 - val_loss: 1.0919 - learning_rate: 3.0000e-05\n",
            "Epoch 30/30\n",
            "\u001b[1m26/26\u001b[0m \u001b[32m━━━━━━━━━━━━━━━━━━━━\u001b[0m\u001b[37m\u001b[0m \u001b[1m4s\u001b[0m 163ms/step - Accuracy: 0.9580 - Precision: 0.9703 - Recall: 0.9260 - loss: 0.7483 - val_Accuracy: 0.8500 - val_Precision: 0.8912 - val_Recall: 0.8188 - val_loss: 1.0907 - learning_rate: 3.0000e-05\n"
          ]
        }
      ],
      "source": [
        "model_mobile = mobile_model() # Create an instance of the model\n",
        "\n",
        "model_mobile.compile(\n",
        "    optimizer=Adam(learning_rate=1e-4),\n",
        "    loss='categorical_crossentropy',\n",
        "    metrics=[\n",
        "        metrics.CategoricalAccuracy(name=\"Accuracy\"),\n",
        "        metrics.Precision(name=\"Precision\"),\n",
        "        metrics.Recall(name=\"Recall\")\n",
        "    ]\n",
        ")\n",
        "\n",
        "# Callbacks\n",
        "early_stop = EarlyStopping(monitor='val_loss', patience=5, restore_best_weights=True)\n",
        "\n",
        "lr_scheduler = ReduceLROnPlateau(monitor='val_loss', factor=0.3, patience=2, verbose=1, min_lr=1e-6)\n",
        "\n",
        "model_ckpt = ModelCheckpoint(\"best_mobile_model.h5\", monitor='val_accuracy', save_best_only=True, verbose=1)\n",
        "\n",
        "# Training\n",
        "history_mobile = model_mobile.fit(\n",
        "    train_combined,\n",
        "    steps_per_epoch=steps_per_epoch,\n",
        "    validation_data=val_gen,\n",
        "    validation_steps=validation_steps,\n",
        "    epochs=30,\n",
        "    callbacks=[early_stop, lr_scheduler, model_ckpt]\n",
        ")"
      ]
    },
    {
      "cell_type": "code",
      "execution_count": 24,
      "metadata": {
        "colab": {
          "base_uri": "https://localhost:8080/",
          "height": 491
        },
        "id": "tcDmAQEtEhl8",
        "outputId": "44cb2dea-e8ec-4cb8-af82-0067f173dd75"
      },
      "outputs": [
        {
          "output_type": "display_data",
          "data": {
            "text/plain": [
              "<Figure size 1400x500 with 2 Axes>"
            ],
            "image/png": "[encoded data removed]"
          },
          "metadata": {}
        }
      ],
      "source": [
        "epochs_ran = len(history_mobile.history['Accuracy'])\n",
        "fig, (plt1, plt2) = plt.subplots(1,2, figsize=(14,5))\n",
        "epoch_x_axis = range(1, epochs_ran + 1)\n",
        "plt1.plot(epoch_x_axis, history_mobile.history['Accuracy'], label='Training Accu')\n",
        "plt1.plot(epoch_x_axis, history_mobile.history['val_Accuracy'], label='Validation Accu')\n",
        "plt1.set_ylabel('Accuracy')\n",
        "plt1.set_xlabel('Epochs')\n",
        "\n",
        "\n",
        "plt1.legend()\n",
        "\n",
        "plt2.plot(epoch_x_axis, history_mobile.history['loss'], label='Training Loss')\n",
        "plt2.plot(epoch_x_axis, history_mobile.history['val_loss'], label='Validation Loss')\n",
        "plt2.set_ylabel('Loss')\n",
        "plt2.set_xlabel('Epochs')\n",
        "\n",
        "plt2.legend()\n",
        "\n",
        "fig.suptitle('Model Training and Validation Evaluation (model 2)')\n",
        "fig.tight_layout()"
      ]
    },
    {
      "cell_type": "markdown",
      "metadata": {
        "id": "9Dvf1YsmnOnR"
      },
      "source": [
        "### Key Takeaways\n",
        "\n",
        "- The **custom CNN** showed acceptable training accuracy but limited generalization.\n",
        "- The **MobileNetV2 model** (with freezing, dropout, regularization) showed better **generalization** but was overfitting until scheduler & dropout were added.\n",
        "- Augmentation and oversampling helped address class imbalance.\n",
        "\n",
        "**Recommendation:** Use MobileNetV2 with fine-tuned top layers and regularization for final deployment. Additional tuning (more data, class weights, augmentation) can help further.\n"
      ]
    }
  ],
  "metadata": {
    "colab": {
      "provenance": [],
      "gpuType": "T4",
      "mount_file_id": "1O0qKE7cmv4SWlpFGEfvg9FmdzMJHecYD",
      "authorship_tag": "ABX9TyPEU0fULnNcisz+NaIcuaMp"
    },
    "kernelspec": {
      "display_name": "Python 3",
      "name": "python3"
    },
    "language_info": {
      "name": "python"
    },
    "accelerator": "GPU"
  },
  "nbformat": 4,
  "nbformat_minor": 0
}